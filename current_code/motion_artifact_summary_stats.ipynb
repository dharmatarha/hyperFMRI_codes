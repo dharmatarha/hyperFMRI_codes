{
 "cells": [
  {
   "cell_type": "code",
   "execution_count": null,
   "metadata": {
    "collapsed": true,
    "pycharm": {
     "name": "#%%\n"
    }
   },
   "outputs": [],
   "source": [
    "\"\"\"\n",
    "This script computes descriptive statistics for motion\n",
    "artifacts in the hyperscanning dataset. It searches for\n",
    "data on drzeuss. It computes summary stats in line with\n",
    "those reported in Jolly, Sadhukha, & Chang, 2020:\n",
    "https://doi.org/10.1016/j.neuroimage.2020.117207\n",
    "\"\"\""
   ]
  },
  {
   "cell_type": "code",
   "execution_count": 59,
   "outputs": [],
   "source": [
    "import pandas as pd\n",
    "import numpy as np\n",
    "from __future__ import division\n",
    "%matplotlib inline"
   ],
   "metadata": {
    "collapsed": false,
    "pycharm": {
     "name": "#%% import packages\n"
    }
   }
  },
  {
   "cell_type": "code",
   "execution_count": 2,
   "outputs": [
    {
     "name": "stdout",
     "output_type": "stream",
     "text": [
      "2.7.6\n"
     ]
    }
   ],
   "source": [
    "# from platform import python_version\n",
    "#\n",
    "# print(python_version())"
   ],
   "metadata": {
    "collapsed": false,
    "pycharm": {
     "name": "#%%\n"
    }
   }
  },
  {
   "cell_type": "code",
   "execution_count": 22,
   "outputs": [],
   "source": [
    "subList = pd.read_csv('/afs/dbic.dartmouth.edu/usr/wheatley/jd/hyperscanning_subject_list.csv',index_col=False)\n",
    "subList"
   ],
   "metadata": {
    "collapsed": false,
    "pycharm": {
     "name": "#%% load hyperscanning subject list\n"
    }
   }
  },
  {
   "cell_type": "code",
   "execution_count": 75,
   "outputs": [],
   "source": [
    "meanFD = np.empty([subList.shape[0],4])\n",
    "medianFD = np.empty([subList.shape[0],4])\n",
    "hiMoProp = np.empty([subList.shape[0],4])\n",
    "maxFD = np.empty([subList.shape[0],4])"
   ],
   "metadata": {
    "collapsed": false,
    "pycharm": {
     "name": "#%% preallocate descriptive stats arrays [subs x runs]\n"
    }
   }
  },
  {
   "cell_type": "code",
   "execution_count": 76,
   "outputs": [
    {
     "name": "stdout",
     "output_type": "stream",
     "text": [
      "loaded a 1789 x 25 csv file for sid000007, run 1\n",
      "loaded a 1785 x 22 csv file for sid000007, run 2\n",
      "loaded a 508 x 22 csv file for sid000007, run 3\n",
      "loaded a 482 x 19 csv file for sid000007, run 4\n",
      "loaded a 1802 x 10 csv file for sid000009, run 1\n",
      "loaded a 1812 x 10 csv file for sid000009, run 2\n",
      "loaded a 506 x 19 csv file for sid000009, run 3\n",
      "loaded a 481 x 19 csv file for sid000009, run 4\n",
      "loaded a 1841 x 31 csv file for sid000560, run 1\n",
      "loaded a 1810 x 29 csv file for sid000560, run 2\n",
      "loaded a 533 x 19 csv file for sid000560, run 3\n",
      "loaded a 480 x 19 csv file for sid000560, run 4\n",
      "loaded a 1782 x 10 csv file for sid000535, run 1\n",
      "loaded a 1799 x 10 csv file for sid000535, run 2\n",
      "loaded a 501 x 19 csv file for sid000535, run 3\n",
      "loaded a 481 x 19 csv file for sid000535, run 4\n",
      "loaded a 1786 x 10 csv file for sid000102, run 1\n",
      "loaded a 1784 x 10 csv file for sid000102, run 2\n",
      "loaded a 561 x 19 csv file for sid000102, run 3\n",
      "loaded a 486 x 19 csv file for sid000102, run 4\n",
      "loaded a 1805 x 10 csv file for sid000416, run 1\n",
      "loaded a 1792 x 10 csv file for sid000416, run 2\n",
      "loaded a 500 x 19 csv file for sid000416, run 3\n",
      "loaded a 478 x 19 csv file for sid000416, run 4\n",
      "loaded a 1832 x 12 csv file for sid000499, run 1\n",
      "loaded a 1784 x 11 csv file for sid000499, run 2\n",
      "loaded a 504 x 19 csv file for sid000499, run 3\n",
      "loaded a 485 x 19 csv file for sid000499, run 4\n",
      "loaded a 1804 x 10 csv file for sid000142, run 1\n",
      "loaded a 1779 x 16 csv file for sid000142, run 2\n",
      "loaded a 503 x 19 csv file for sid000142, run 3\n",
      "loaded a 480 x 19 csv file for sid000142, run 4\n",
      "loaded a 1779 x 10 csv file for hid000002, run 1\n",
      "loaded a 1777 x 10 csv file for hid000002, run 2\n",
      "loaded a 510 x 19 csv file for hid000002, run 3\n",
      "loaded a 496 x 19 csv file for hid000002, run 4\n",
      "loaded a 1795 x 11 csv file for hid000003, run 1\n",
      "loaded a 1814 x 10 csv file for hid000003, run 2\n",
      "loaded a 510 x 19 csv file for hid000003, run 3\n",
      "loaded a 489 x 19 csv file for hid000003, run 4\n",
      "loaded a 1786 x 10 csv file for hid000004, run 1\n",
      "loaded a 1823 x 10 csv file for hid000004, run 2\n",
      "loaded a 510 x 19 csv file for hid000004, run 3\n",
      "loaded a 482 x 19 csv file for hid000004, run 4\n",
      "loaded a 1804 x 10 csv file for hid000005, run 1\n",
      "loaded a 1781 x 10 csv file for hid000005, run 2\n",
      "loaded a 510 x 19 csv file for hid000005, run 3\n",
      "loaded a 485 x 19 csv file for hid000005, run 4\n",
      "loaded a 1806 x 10 csv file for hid000006, run 1\n",
      "loaded a 1775 x 10 csv file for hid000006, run 2\n",
      "loaded a 510 x 19 csv file for hid000006, run 3\n",
      "loaded a 481 x 19 csv file for hid000006, run 4\n",
      "loaded a 1801 x 14 csv file for hid000007, run 1\n",
      "loaded a 1783 x 10 csv file for hid000007, run 2\n",
      "loaded a 510 x 19 csv file for hid000007, run 3\n",
      "loaded a 481 x 19 csv file for hid000007, run 4\n",
      "loaded a 1831 x 10 csv file for hid000008, run 1\n",
      "loaded a 1782 x 13 csv file for hid000008, run 2\n",
      "loaded a 510 x 19 csv file for hid000008, run 3\n",
      "loaded a 488 x 19 csv file for hid000008, run 4\n",
      "loaded a 1800 x 10 csv file for hid000009, run 1\n",
      "loaded a 1774 x 10 csv file for hid000009, run 2\n",
      "loaded a 510 x 19 csv file for hid000009, run 3\n",
      "loaded a 484 x 19 csv file for hid000009, run 4\n"
     ]
    }
   ],
   "source": [
    "# set high-motion volume threshold (e.g. 0.3 mm from Jolly, Sadhukha, & Chang, 2020)\n",
    "hiMoThresh = 0.3 # [mm]\n",
    "\n",
    "for SUB in range(len(subIDs)): # for each subject...\n",
    "\n",
    "    subID = subList.subID[SUB]\n",
    "    pairNum = subList.pairNum[SUB]\n",
    "    site = subList.site[SUB]\n",
    "    if site == 'DBIC':\n",
    "        siteFolder = 'hyperscanning_DBIC_ses2'\n",
    "    else:\n",
    "        siteFolder = 'hyperscanning_CBS'\n",
    "\n",
    "    for RUN in [1,2,3,4]:\n",
    "\n",
    "        if RUN < 3: # if storytelling task\n",
    "\n",
    "            # housekeeping specific to storytelling tasks\n",
    "            dateTag = ''\n",
    "            folder = 'flash/wheatley/adamb/' + siteFolder + '/sub-' + subID + '_fmriprep/fmriprep/sub-' + subID + '/ses-pair0' + str(pairNum) + '/func/'\n",
    "\n",
    "        else:\n",
    "\n",
    "            # housekeeping specific to control tasks\n",
    "            dateTag = '_2021'\n",
    "            folder = '/afs/dbic.dartmouth.edu/usr/wheatley/jd/control_tasks/'\n",
    "\n",
    "        # get file name\n",
    "        fileName = 'sub-' + subID + '_ses-pair0' + str(pairNum) + '_task-storytelling' + str(RUN) + '_run-0' + str(RUN) + '_bold_confounds_truncated' + dateTag + '.csv'\n",
    "\n",
    "        # load csv file\n",
    "        moData = pd.read_csv(folder + fileName,index_col=False)\n",
    "        print('loaded a ' + str(moData.shape[0]) + ' x ' + str(moData.shape[1]) + ' csv file for ' + subID + ', run ' + str(RUN))\n",
    "\n",
    "        # get framewise displacement vector\n",
    "        fwd = moData.FramewiseDisplacement[1:moData.shape[0]]\n",
    "\n",
    "        # get descriptive stats for framewise displacement\n",
    "        meanFD[SUB,RUN-1] = np.mean(fwd) # mean\n",
    "        medianFD[SUB,RUN-1] = np.median(fwd) # median\n",
    "        hiMoProp[SUB,RUN-1] = len(np.where(fwd > hiMoThresh)[0]) / len(fwd) # proportion above high motion threshold\n",
    "        maxFD[SUB,RUN-1]  = np.max(fwd)"
   ],
   "metadata": {
    "collapsed": false,
    "pycharm": {
     "name": "#%% get data\n"
    }
   }
  },
  {
   "cell_type": "code",
   "execution_count": 77,
   "outputs": [
    {
     "data": {
      "text/plain": "               storytelling 1 storytelling 2      listening        reading\nmean FD (mm)    0.212 ± 0.074  0.191 ± 0.064  0.077 ± 0.019  0.172 ± 0.059\nmedian FD (mm)  0.171 ± 0.054  0.156 ± 0.048   0.07 ± 0.017  0.157 ± 0.052\np(high motion)    0.2 ± 0.145  0.167 ± 0.122  0.007 ± 0.011   0.108 ± 0.13",
      "text/html": "<div>\n<style scoped>\n    .dataframe tbody tr th:only-of-type {\n        vertical-align: middle;\n    }\n\n    .dataframe tbody tr th {\n        vertical-align: top;\n    }\n\n    .dataframe thead th {\n        text-align: right;\n    }\n</style>\n<table border=\"1\" class=\"dataframe\">\n  <thead>\n    <tr style=\"text-align: right;\">\n      <th></th>\n      <th>storytelling 1</th>\n      <th>storytelling 2</th>\n      <th>listening</th>\n      <th>reading</th>\n    </tr>\n  </thead>\n  <tbody>\n    <tr>\n      <th>mean FD (mm)</th>\n      <td>0.212 ± 0.074</td>\n      <td>0.191 ± 0.064</td>\n      <td>0.077 ± 0.019</td>\n      <td>0.172 ± 0.059</td>\n    </tr>\n    <tr>\n      <th>median FD (mm)</th>\n      <td>0.171 ± 0.054</td>\n      <td>0.156 ± 0.048</td>\n      <td>0.07 ± 0.017</td>\n      <td>0.157 ± 0.052</td>\n    </tr>\n    <tr>\n      <th>p(high motion)</th>\n      <td>0.2 ± 0.145</td>\n      <td>0.167 ± 0.122</td>\n      <td>0.007 ± 0.011</td>\n      <td>0.108 ± 0.13</td>\n    </tr>\n  </tbody>\n</table>\n</div>"
     },
     "execution_count": 77,
     "metadata": {},
     "output_type": "execute_result"
    }
   ],
   "source": [
    "# preallocate 2 x 4 arrays: row 0 = means, row 1 = SD, columns = runs\n",
    "meanFD_grp = np.empty([2,4])\n",
    "medianFD_grp = np.empty([2,4])\n",
    "hiMoProp_grp = np.empty([2,4])\n",
    "maxFD_grp = np.empty([2,4])\n",
    "\n",
    "# get means and SDs\n",
    "meanFD_grp[0,:] = np.mean(meanFD,axis=0)\n",
    "meanFD_grp[1,:] = np.std(meanFD,axis=0)\n",
    "medianFD_grp[0,:] = np.mean(medianFD,axis=0)\n",
    "medianFD_grp[1,:] = np.std(medianFD,axis=0)\n",
    "hiMoProp_grp[0,:] = np.mean(hiMoProp,axis=0)\n",
    "hiMoProp_grp[1,:] = np.std(hiMoProp,axis=0)\n",
    "maxFD_grp[0,:] = np.mean(maxFD,axis=0)\n",
    "maxFD_grp[1,:] = np.std(maxFD,axis=0)\n",
    "\n",
    "# set table column and row names\n",
    "colNames = ['storytelling 1','storytelling 2','listening','reading']\n",
    "rowNames = ['mean FD (mm)','median FD (mm)','p(high motion)']\n",
    "\n",
    "# make some temporary arrays\n",
    "meanArray = np.vstack((meanFD_grp[0,:],medianFD_grp[0,:]))\n",
    "meanArray = np.vstack((meanArray,hiMoProp_grp[0,:]))\n",
    "sdArray = np.vstack((meanFD_grp[1,:],medianFD_grp[1,:]))\n",
    "sdArray = np.vstack((sdArray,hiMoProp_grp[1,:]))\n",
    "\n",
    "# put everything in a table\n",
    "summTable = pd.DataFrame(np.empty([3,4]), columns = colNames, index = rowNames, dtype = np.str)\n",
    "for ROW in range(meanArray.shape[0]):\n",
    "    for COL in range(meanArray.shape[1]):\n",
    "\n",
    "        summTable.iloc[ROW,COL] = str(np.round(meanArray[ROW,COL],3)) + ' ± ' + str(np.round(sdArray[ROW,COL],3))\n",
    "\n",
    "summTable\n"
   ],
   "metadata": {
    "collapsed": false,
    "pycharm": {
     "name": "#%% get group means and SDs of descriptive stats above\n"
    }
   }
  },
  {
   "cell_type": "code",
   "execution_count": 58,
   "outputs": [
    {
     "name": "stdout",
     "output_type": "stream",
     "text": [
      "('The loony bin is closing shop, greetings', 'from The Combine!')\n"
     ]
    }
   ],
   "source": [
    "print('The loony bin is closing shop, greetings',\n",
    "          'from The Combine!')"
   ],
   "metadata": {
    "collapsed": false,
    "pycharm": {
     "name": "#%%\n"
    }
   }
  },
  {
   "cell_type": "code",
   "execution_count": null,
   "outputs": [],
   "source": [],
   "metadata": {
    "collapsed": false,
    "pycharm": {
     "name": "#%%\n"
    }
   }
  }
 ],
 "metadata": {
  "kernelspec": {
   "name": "hypescancentral",
   "language": "python",
   "display_name": "hypeScanKernel"
  },
  "language_info": {
   "codemirror_mode": {
    "name": "ipython",
    "version": 2
   },
   "file_extension": ".py",
   "mimetype": "text/x-python",
   "name": "python",
   "nbconvert_exporter": "python",
   "pygments_lexer": "ipython2",
   "version": "2.7.6"
  }
 },
 "nbformat": 4,
 "nbformat_minor": 0
}